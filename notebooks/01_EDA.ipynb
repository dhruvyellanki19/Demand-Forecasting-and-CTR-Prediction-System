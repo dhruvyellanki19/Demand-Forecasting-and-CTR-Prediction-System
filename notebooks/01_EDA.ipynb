{
 "cells": [
  {
   "cell_type": "code",
   "execution_count": 10,
   "id": "aa3057bc",
   "metadata": {},
   "outputs": [],
   "source": [
    "import numpy as np \n",
    "import pandas as pd\n",
    "import matplotlib.pyplot as plt\n",
    "import seaborn as sns\n",
    "import duckdb as ddb\n",
    "import os"
   ]
  },
  {
   "cell_type": "code",
   "execution_count": 11,
   "id": "e6a36e3e",
   "metadata": {},
   "outputs": [],
   "source": [
    "raw_path=\"/Users/dhruvyellanki/Documents/Projects/Demand Forecasting-and-CTR-Prediction-System_Project_file/code_file/data/raw\"\n",
    "processed_path=\"/Users/dhruvyellanki/Documents/Projects/Demand Forecasting-and-CTR-Prediction-System_Project_file/code_file/data/processed\"\n",
    "interim_path=\"/Users/dhruvyellanki/Documents/Projects/Demand Forecasting-and-CTR-Prediction-System_Project_file/code_file/data/final\""
   ]
  },
  {
   "cell_type": "markdown",
   "id": "47c21cca",
   "metadata": {},
   "source": [
    "## EXPLORING THE DATA"
   ]
  },
  {
   "cell_type": "code",
   "execution_count": 12,
   "id": "644e012c",
   "metadata": {},
   "outputs": [],
   "source": [
    "# Load each CSV\n",
    "orders_raw = pd.read_csv(os.path.join(raw_path, \"orders.csv\"))\n",
    "order_products_train_raw = pd.read_csv(os.path.join(raw_path, \"order_products__train.csv\"))\n",
    "order_products_prior_raw = pd.read_csv(os.path.join(raw_path, \"order_products__prior.csv\"))\n",
    "products_raw = pd.read_csv(os.path.join(raw_path, \"products.csv\"))\n",
    "aisles_raw = pd.read_csv(os.path.join(raw_path, \"aisles.csv\"))\n",
    "departments_raw = pd.read_csv(os.path.join(raw_path, \"departments.csv\"))"
   ]
  },
  {
   "cell_type": "code",
   "execution_count": 13,
   "id": "30e1a176",
   "metadata": {},
   "outputs": [],
   "source": [
    "# Converting data to parquet format\n",
    "orders_raw.to_parquet(os.path.join(processed_path, \"orders.parquet\"))\n",
    "order_products_train_raw.to_parquet(os.path.join(processed_path, \"order_products_train.parquet\"))\n",
    "order_products_prior_raw.to_parquet(os.path.join(processed_path, \"order_products_prior.parquet\"))\n",
    "products_raw.to_parquet(os.path.join(processed_path, \"products.parquet\"))\n",
    "aisles_raw.to_parquet(os.path.join(processed_path, \"aisles.parquet\"))\n",
    "departments_raw.to_parquet(os.path.join(processed_path, \"departments.parquet\"))"
   ]
  },
  {
   "cell_type": "code",
   "execution_count": 14,
   "id": "05e43fda",
   "metadata": {},
   "outputs": [],
   "source": [
    "# Loading the processed data\n",
    "orders = pd.read_parquet(os.path.join(processed_path, \"orders.parquet\"))\n",
    "order_products_train = pd.read_parquet(os.path.join(processed_path, \"order_products_train.parquet\"))\n",
    "order_products_prior = pd.read_parquet(os.path.join(processed_path, \"order_products_prior.parquet\"))\n",
    "products = pd.read_parquet(os.path.join(processed_path, \"products.parquet\"))\n",
    "aisles = pd.read_parquet(os.path.join(processed_path, \"aisles.parquet\"))\n",
    "departments = pd.read_parquet(os.path.join(processed_path, \"departments.parquet\"))"
   ]
  },
  {
   "cell_type": "markdown",
   "id": "e2f6460c",
   "metadata": {},
   "source": [
    "### orders dataset\n",
    "These are the order records – who ordered, when, and how often (Tells us when and how often people shop)."
   ]
  },
  {
   "cell_type": "code",
   "execution_count": 15,
   "id": "37e7e72c",
   "metadata": {},
   "outputs": [
    {
     "data": {
      "text/html": [
       "<div>\n",
       "<style scoped>\n",
       "    .dataframe tbody tr th:only-of-type {\n",
       "        vertical-align: middle;\n",
       "    }\n",
       "\n",
       "    .dataframe tbody tr th {\n",
       "        vertical-align: top;\n",
       "    }\n",
       "\n",
       "    .dataframe thead th {\n",
       "        text-align: right;\n",
       "    }\n",
       "</style>\n",
       "<table border=\"1\" class=\"dataframe\">\n",
       "  <thead>\n",
       "    <tr style=\"text-align: right;\">\n",
       "      <th></th>\n",
       "      <th>order_id</th>\n",
       "      <th>user_id</th>\n",
       "      <th>eval_set</th>\n",
       "      <th>order_number</th>\n",
       "      <th>order_dow</th>\n",
       "      <th>order_hour_of_day</th>\n",
       "      <th>days_since_prior_order</th>\n",
       "    </tr>\n",
       "  </thead>\n",
       "  <tbody>\n",
       "    <tr>\n",
       "      <th>0</th>\n",
       "      <td>2539329</td>\n",
       "      <td>1</td>\n",
       "      <td>prior</td>\n",
       "      <td>1</td>\n",
       "      <td>2</td>\n",
       "      <td>8</td>\n",
       "      <td>NaN</td>\n",
       "    </tr>\n",
       "    <tr>\n",
       "      <th>1</th>\n",
       "      <td>2398795</td>\n",
       "      <td>1</td>\n",
       "      <td>prior</td>\n",
       "      <td>2</td>\n",
       "      <td>3</td>\n",
       "      <td>7</td>\n",
       "      <td>15.0</td>\n",
       "    </tr>\n",
       "    <tr>\n",
       "      <th>2</th>\n",
       "      <td>473747</td>\n",
       "      <td>1</td>\n",
       "      <td>prior</td>\n",
       "      <td>3</td>\n",
       "      <td>3</td>\n",
       "      <td>12</td>\n",
       "      <td>21.0</td>\n",
       "    </tr>\n",
       "    <tr>\n",
       "      <th>3</th>\n",
       "      <td>2254736</td>\n",
       "      <td>1</td>\n",
       "      <td>prior</td>\n",
       "      <td>4</td>\n",
       "      <td>4</td>\n",
       "      <td>7</td>\n",
       "      <td>29.0</td>\n",
       "    </tr>\n",
       "    <tr>\n",
       "      <th>4</th>\n",
       "      <td>431534</td>\n",
       "      <td>1</td>\n",
       "      <td>prior</td>\n",
       "      <td>5</td>\n",
       "      <td>4</td>\n",
       "      <td>15</td>\n",
       "      <td>28.0</td>\n",
       "    </tr>\n",
       "  </tbody>\n",
       "</table>\n",
       "</div>"
      ],
      "text/plain": [
       "   order_id  user_id eval_set  order_number  order_dow  order_hour_of_day  \\\n",
       "0   2539329        1    prior             1          2                  8   \n",
       "1   2398795        1    prior             2          3                  7   \n",
       "2    473747        1    prior             3          3                 12   \n",
       "3   2254736        1    prior             4          4                  7   \n",
       "4    431534        1    prior             5          4                 15   \n",
       "\n",
       "   days_since_prior_order  \n",
       "0                     NaN  \n",
       "1                    15.0  \n",
       "2                    21.0  \n",
       "3                    29.0  \n",
       "4                    28.0  "
      ]
     },
     "execution_count": 15,
     "metadata": {},
     "output_type": "execute_result"
    }
   ],
   "source": [
    "orders.head()"
   ]
  },
  {
   "cell_type": "code",
   "execution_count": 19,
   "id": "f5281076",
   "metadata": {},
   "outputs": [
    {
     "data": {
      "text/plain": [
       "(3421083, 7)"
      ]
     },
     "execution_count": 19,
     "metadata": {},
     "output_type": "execute_result"
    }
   ],
   "source": [
    "orders.shape"
   ]
  },
  {
   "cell_type": "code",
   "execution_count": 24,
   "id": "07390ff2",
   "metadata": {},
   "outputs": [
    {
     "data": {
      "text/plain": [
       "0"
      ]
     },
     "execution_count": 24,
     "metadata": {},
     "output_type": "execute_result"
    }
   ],
   "source": [
    "orders.duplicated(subset=['order_id']).sum()"
   ]
  },
  {
   "cell_type": "code",
   "execution_count": 25,
   "id": "d94e6656",
   "metadata": {},
   "outputs": [
    {
     "name": "stdout",
     "output_type": "stream",
     "text": [
      "<class 'pandas.core.frame.DataFrame'>\n",
      "RangeIndex: 3421083 entries, 0 to 3421082\n",
      "Data columns (total 7 columns):\n",
      " #   Column                  Dtype  \n",
      "---  ------                  -----  \n",
      " 0   order_id                int64  \n",
      " 1   user_id                 int64  \n",
      " 2   eval_set                object \n",
      " 3   order_number            int64  \n",
      " 4   order_dow               int64  \n",
      " 5   order_hour_of_day       int64  \n",
      " 6   days_since_prior_order  float64\n",
      "dtypes: float64(1), int64(5), object(1)\n",
      "memory usage: 182.7+ MB\n"
     ]
    }
   ],
   "source": [
    "orders.info()"
   ]
  },
  {
   "cell_type": "code",
   "execution_count": null,
   "id": "2b3ba3e3",
   "metadata": {},
   "outputs": [],
   "source": []
  },
  {
   "cell_type": "code",
   "execution_count": null,
   "id": "e83824e8",
   "metadata": {},
   "outputs": [],
   "source": []
  },
  {
   "cell_type": "markdown",
   "id": "d3054fa7",
   "metadata": {},
   "source": [
    "### order_products__train dataset\n",
    "These are the shopping basket details – what people actually bought in each order -last order used for training (Shows which items are popular or frequently re-bought)."
   ]
  },
  {
   "cell_type": "code",
   "execution_count": null,
   "id": "ccc728e1",
   "metadata": {},
   "outputs": [],
   "source": []
  },
  {
   "cell_type": "code",
   "execution_count": null,
   "id": "3d231513",
   "metadata": {},
   "outputs": [],
   "source": []
  },
  {
   "cell_type": "code",
   "execution_count": null,
   "id": "d7f7115a",
   "metadata": {},
   "outputs": [],
   "source": []
  },
  {
   "cell_type": "code",
   "execution_count": null,
   "id": "a7fb2395",
   "metadata": {},
   "outputs": [],
   "source": []
  },
  {
   "cell_type": "code",
   "execution_count": null,
   "id": "cb1c3d97",
   "metadata": {},
   "outputs": [],
   "source": []
  },
  {
   "cell_type": "markdown",
   "id": "f67ae134",
   "metadata": {},
   "source": [
    "### order_products__prior dataset\n",
    "This file contains all the historical order details from users before their latest labeled training order -all the orders before that — kind of like their full shopping history (matters because it contains each user's full purchase history, which is essential for learning reorder patterns and building accurate forecasting or CTR features.)"
   ]
  },
  {
   "cell_type": "markdown",
   "id": "a769ffeb",
   "metadata": {},
   "source": [
    "### products dataset\n",
    "This is the master list of all the products sold, like “Organic Bananas” or “Chocolate Ice Cream” (Connects items to their category and where they are in the store)."
   ]
  },
  {
   "cell_type": "markdown",
   "id": "d2d94464",
   "metadata": {},
   "source": [
    "### aisles dataset\n",
    "Think of this as the small sections inside a store aisle like \"yogurt\", \"toothpaste\", or \"chips\" ( Tells us what kind of product it is (subcategory))."
   ]
  },
  {
   "cell_type": "markdown",
   "id": "ecf5495d",
   "metadata": {},
   "source": [
    "### departments dataset\n",
    "These are the big categories in a store like \"dairy\", \"beverages\", or \"household\" (Helps us group products into broad types)"
   ]
  }
 ],
 "metadata": {
  "kernelspec": {
   "display_name": "venv",
   "language": "python",
   "name": "python3"
  },
  "language_info": {
   "codemirror_mode": {
    "name": "ipython",
    "version": 3
   },
   "file_extension": ".py",
   "mimetype": "text/x-python",
   "name": "python",
   "nbconvert_exporter": "python",
   "pygments_lexer": "ipython3",
   "version": "3.11.13"
  }
 },
 "nbformat": 4,
 "nbformat_minor": 5
}
