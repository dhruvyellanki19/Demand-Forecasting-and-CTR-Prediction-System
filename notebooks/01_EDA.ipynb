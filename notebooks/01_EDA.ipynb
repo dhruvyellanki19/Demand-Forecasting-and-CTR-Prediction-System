{
 "cells": [
  {
   "cell_type": "code",
   "execution_count": 1,
   "id": "aa3057bc",
   "metadata": {},
   "outputs": [],
   "source": [
    "import numpy as np \n",
    "import pandas as pd\n",
    "import matplotlib.pyplot as plt\n",
    "import seaborn as sns\n",
    "import duckdb as ddb\n",
    "import os"
   ]
  },
  {
   "cell_type": "code",
   "execution_count": 2,
   "id": "e6a36e3e",
   "metadata": {},
   "outputs": [],
   "source": [
    "raw_path=\"/Users/dhruvyellanki/Documents/Projects/Demand Forecasting-and-CTR-Prediction-System_Project_file/code_file/data/raw\"\n",
    "processed_path=\"/Users/dhruvyellanki/Documents/Projects/Demand Forecasting-and-CTR-Prediction-System_Project_file/code_file/data/processed\"\n",
    "interim_path=\"/Users/dhruvyellanki/Documents/Projects/Demand Forecasting-and-CTR-Prediction-System_Project_file/code_file/data/final\""
   ]
  },
  {
   "cell_type": "code",
   "execution_count": 3,
   "id": "a2f71e9e",
   "metadata": {},
   "outputs": [],
   "source": [
    "# Load each CSV\n",
    "orders = pd.read_csv(os.path.join(raw_path, \"orders.csv\"))\n",
    "order_products = pd.read_csv(os.path.join(raw_path, \"order_products__train.csv\"))\n",
    "products = pd.read_csv(os.path.join(raw_path, \"products.csv\"))\n",
    "aisles = pd.read_csv(os.path.join(raw_path, \"aisles.csv\"))\n",
    "departments = pd.read_csv(os.path.join(raw_path, \"departments.csv\"))"
   ]
  },
  {
   "cell_type": "code",
   "execution_count": 9,
   "id": "8afedb9f",
   "metadata": {},
   "outputs": [],
   "source": [
    "dataframes= {\n",
    "    \"orders\": orders,\n",
    "    \"order_products\": order_products,\n",
    "    \"products\": products,\n",
    "    \"aisles\": aisles,\n",
    "    \"departments\": departments\n",
    "}\n"
   ]
  },
  {
   "cell_type": "code",
   "execution_count": null,
   "id": "5488afe6",
   "metadata": {},
   "outputs": [],
   "source": []
  }
 ],
 "metadata": {
  "kernelspec": {
   "display_name": "venv",
   "language": "python",
   "name": "python3"
  },
  "language_info": {
   "codemirror_mode": {
    "name": "ipython",
    "version": 3
   },
   "file_extension": ".py",
   "mimetype": "text/x-python",
   "name": "python",
   "nbconvert_exporter": "python",
   "pygments_lexer": "ipython3",
   "version": "3.11.13"
  }
 },
 "nbformat": 4,
 "nbformat_minor": 5
}
